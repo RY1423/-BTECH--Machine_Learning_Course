{
  "nbformat": 4,
  "nbformat_minor": 0,
  "metadata": {
    "colab": {
      "provenance": []
    },
    "kernelspec": {
      "name": "python3",
      "display_name": "Python 3"
    },
    "language_info": {
      "name": "python"
    }
  },
  "cells": [
    {
      "cell_type": "code",
      "execution_count": 21,
      "metadata": {
        "id": "jRR0rRkFe0NU"
      },
      "outputs": [],
      "source": [
        "# Problem 1: Import numpy as np and pandas as pd\n",
        "\n",
        "import numpy as np\n",
        "import pandas as pd\n"
      ]
    },
    {
      "cell_type": "code",
      "source": [
        "# Problem 2: Create a simple DataFrame\n",
        "\n",
        "my_data = np.array([[2,5],[4,8],[3,7],[0,9],[5,0]])\n",
        "\n",
        "columns = ['A', 'B',]\n",
        "\n",
        "my_dataframe = pd.DataFrame(data=my_data, columns=columns)\n",
        "\n",
        "print(my_dataframe)\n",
        "\n"
      ],
      "metadata": {
        "colab": {
          "base_uri": "https://localhost:8080/",
          "height": 0
        },
        "id": "HWLR5evzjhjx",
        "outputId": "2a8c28c6-6cc1-4877-cf6c-e2d84016bcf1"
      },
      "execution_count": 25,
      "outputs": [
        {
          "output_type": "stream",
          "name": "stdout",
          "text": [
            "   A  B\n",
            "0  2  5\n",
            "1  4  8\n",
            "2  3  7\n",
            "3  0  9\n",
            "4  5  0\n"
          ]
        }
      ]
    },
    {
      "cell_type": "code",
      "source": [
        "# Problem 3: Write a function to convert seconds into minutes\n",
        "\n",
        "Seconds = 335\n",
        "\n",
        "Minutes = Seconds/60\n",
        "\n",
        "print(Minutes)"
      ],
      "metadata": {
        "colab": {
          "base_uri": "https://localhost:8080/",
          "height": 0
        },
        "id": "ZNl7atBFnfvg",
        "outputId": "61440ea4-ad02-46ef-f487-584f88ade658"
      },
      "execution_count": 27,
      "outputs": [
        {
          "output_type": "stream",
          "name": "stdout",
          "text": [
            "5.583333333333333\n"
          ]
        }
      ]
    },
    {
      "cell_type": "code",
      "source": [
        "# Problem 4: Load the CSV file\n",
        "\n",
        "df = pd.read_csv('/SOCR-HeightWeight.csv')\n",
        "\n",
        "print(df)"
      ],
      "metadata": {
        "colab": {
          "base_uri": "https://localhost:8080/",
          "height": 0
        },
        "id": "9YzHUbOHoExh",
        "outputId": "3cb43af0-b9c2-4843-f464-c0a45a011fc6"
      },
      "execution_count": 28,
      "outputs": [
        {
          "output_type": "stream",
          "name": "stdout",
          "text": [
            "       Index  Height(Inches)  Weight(Pounds)\n",
            "0          1        65.78331        112.9925\n",
            "1          2        71.51521        136.4873\n",
            "2          3        69.39874        153.0269\n",
            "3          4        68.21660        142.3354\n",
            "4          5        67.78781        144.2971\n",
            "...      ...             ...             ...\n",
            "24995  24996        69.50215        118.0312\n",
            "24996  24997        64.54826        120.1932\n",
            "24997  24998        64.69855        118.2655\n",
            "24998  24999        67.52918        132.2682\n",
            "24999  25000        68.87761        124.8742\n",
            "\n",
            "[25000 rows x 3 columns]\n"
          ]
        }
      ]
    }
  ]
}